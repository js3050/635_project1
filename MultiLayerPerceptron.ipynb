{
 "cells": [
  {
   "cell_type": "code",
   "execution_count": 1,
   "id": "willing-treat",
   "metadata": {},
   "outputs": [],
   "source": [
    "import numpy as np\n",
    "import pandas as pd\n",
    "import tensorflow as tf\n",
    "import matplotlib.pyplot as plt\n",
    "from sklearn.model_selection import train_test_split\n",
    "from sklearn.metrics import precision_recall_fscore_support"
   ]
  },
  {
   "cell_type": "code",
   "execution_count": 2,
   "id": "extreme-captain",
   "metadata": {},
   "outputs": [],
   "source": [
    "training_data = pd.read_csv(\"dataset/train.csv\")"
   ]
  },
  {
   "cell_type": "code",
   "execution_count": 3,
   "id": "ongoing-niagara",
   "metadata": {},
   "outputs": [],
   "source": [
    "Y = training_data['label']\n",
    "X = training_data.drop('label', axis=1)\n",
    "X_train, X_test, Y_train, Y_test = train_test_split(X, Y)"
   ]
  },
  {
   "cell_type": "code",
   "execution_count": 4,
   "id": "neither-receipt",
   "metadata": {},
   "outputs": [],
   "source": [
    "#Normalize data\n",
    "X_train = tf.keras.utils.normalize(X_train)\n",
    "X_test = tf.keras.utils.normalize(X_test)"
   ]
  },
  {
   "cell_type": "code",
   "execution_count": 5,
   "id": "formed-accommodation",
   "metadata": {},
   "outputs": [
    {
     "data": {
      "text/plain": [
       "<matplotlib.image.AxesImage at 0x170a414f0>"
      ]
     },
     "execution_count": 5,
     "metadata": {},
     "output_type": "execute_result"
    },
    {
     "data": {
      "image/png": "[encoded data removed]",
      "text/plain": [
       "<Figure size 432x288 with 1 Axes>"
      ]
     },
     "metadata": {
      "needs_background": "light"
     },
     "output_type": "display_data"
    }
   ],
   "source": [
    "plt.imshow(X_test.iloc[4, :].values.reshape(28,28), cmap=plt.cm.binary)"
   ]
  },
  {
   "cell_type": "code",
   "execution_count": 6,
   "id": "outdoor-sunglasses",
   "metadata": {},
   "outputs": [],
   "source": [
    "model = tf.keras.models.Sequential()"
   ]
  },
  {
   "cell_type": "code",
   "execution_count": 7,
   "id": "dying-mason",
   "metadata": {},
   "outputs": [],
   "source": [
    "model.add(tf.keras.layers.Dense(128, activation=tf.nn.relu))\n",
    "model.add(tf.keras.layers.Dense(128, activation=tf.nn.relu))\n",
    "model.add(tf.keras.layers.Dense(10, activation=tf.nn.softmax))"
   ]
  },
  {
   "cell_type": "code",
   "execution_count": 8,
   "id": "artificial-hotel",
   "metadata": {},
   "outputs": [],
   "source": [
    "model.compile(optimizer='adam', loss='sparse_categorical_crossentropy',metrics=['accuracy'] )"
   ]
  },
  {
   "cell_type": "code",
   "execution_count": 9,
   "id": "attempted-blanket",
   "metadata": {},
   "outputs": [
    {
     "name": "stdout",
     "output_type": "stream",
     "text": [
      "Epoch 1/10\n",
      "985/985 [==============================] - 1s 440us/step - loss: 0.7821 - accuracy: 0.7981\n",
      "Epoch 2/10\n",
      "985/985 [==============================] - 0s 432us/step - loss: 0.2120 - accuracy: 0.9366\n",
      "Epoch 3/10\n",
      "985/985 [==============================] - 0s 431us/step - loss: 0.1409 - accuracy: 0.9573\n",
      "Epoch 4/10\n",
      "985/985 [==============================] - 0s 430us/step - loss: 0.1109 - accuracy: 0.9642\n",
      "Epoch 5/10\n",
      "985/985 [==============================] - 0s 421us/step - loss: 0.0852 - accuracy: 0.9748\n",
      "Epoch 6/10\n",
      "985/985 [==============================] - 0s 420us/step - loss: 0.0663 - accuracy: 0.9804\n",
      "Epoch 7/10\n",
      "985/985 [==============================] - 0s 420us/step - loss: 0.0479 - accuracy: 0.9859\n",
      "Epoch 8/10\n",
      "985/985 [==============================] - 0s 421us/step - loss: 0.0394 - accuracy: 0.9888\n",
      "Epoch 9/10\n",
      "985/985 [==============================] - 0s 419us/step - loss: 0.0299 - accuracy: 0.9914\n",
      "Epoch 10/10\n",
      "985/985 [==============================] - 0s 420us/step - loss: 0.0261 - accuracy: 0.9919\n"
     ]
    },
    {
     "data": {
      "text/plain": [
       "<tensorflow.python.keras.callbacks.History at 0x170b054f0>"
      ]
     },
     "execution_count": 9,
     "metadata": {},
     "output_type": "execute_result"
    }
   ],
   "source": [
    "model.fit(X_train, Y_train, epochs=10)"
   ]
  },
  {
   "cell_type": "code",
   "execution_count": 10,
   "id": "gorgeous-geometry",
   "metadata": {},
   "outputs": [
    {
     "name": "stdout",
     "output_type": "stream",
     "text": [
      "329/329 [==============================] - 0s 282us/step - loss: 0.1106 - accuracy: 0.9700\n"
     ]
    }
   ],
   "source": [
    "loss, accuracy = model.evaluate(X_test, Y_test)"
   ]
  },
  {
   "cell_type": "code",
   "execution_count": 11,
   "id": "leading-nelson",
   "metadata": {},
   "outputs": [
    {
     "name": "stdout",
     "output_type": "stream",
     "text": [
      "0.11055216193199158 0.9700000286102295\n"
     ]
    }
   ],
   "source": [
    "print(loss, accuracy)"
   ]
  },
  {
   "cell_type": "code",
   "execution_count": 12,
   "id": "caroline-memory",
   "metadata": {},
   "outputs": [],
   "source": [
    "testing_data = pd.read_csv(\"dataset/test.csv\")"
   ]
  },
  {
   "cell_type": "code",
   "execution_count": 14,
   "id": "express-warning",
   "metadata": {},
   "outputs": [],
   "source": [
    "pred = model.predict(testing_data)"
   ]
  },
  {
   "cell_type": "code",
   "execution_count": 15,
   "id": "soviet-inquiry",
   "metadata": {},
   "outputs": [
    {
     "data": {
      "text/plain": [
       "array([[2.1492224e-09, 8.1003287e-07, 4.1300503e-08, ..., 6.5946653e-05,\n",
       "        2.1842759e-05, 9.3388981e-01],\n",
       "       [7.9901081e-09, 9.6537693e-09, 8.1633672e-08, ..., 1.2133194e-14,\n",
       "        4.4676613e-06, 1.6406564e-11],\n",
       "       [4.6860532e-10, 9.9975401e-01, 4.5146619e-05, ..., 1.4809064e-04,\n",
       "        3.9430040e-05, 1.6737065e-09],\n",
       "       ...,\n",
       "       [0.0000000e+00, 0.0000000e+00, 0.0000000e+00, ..., 0.0000000e+00,\n",
       "        3.5452851e-43, 0.0000000e+00],\n",
       "       [3.3631163e-43, 0.0000000e+00, 0.0000000e+00, ..., 0.0000000e+00,\n",
       "        3.5452851e-43, 0.0000000e+00],\n",
       "       [4.9045446e-44, 0.0000000e+00, 0.0000000e+00, ..., 0.0000000e+00,\n",
       "        0.0000000e+00, 0.0000000e+00]], dtype=float32)"
      ]
     },
     "execution_count": 15,
     "metadata": {},
     "output_type": "execute_result"
    }
   ],
   "source": [
    "pred"
   ]
  },
  {
   "cell_type": "code",
   "execution_count": 16,
   "id": "residential-medication",
   "metadata": {},
   "outputs": [],
   "source": [
    "model2 = tf.keras.models.load_model(\"mlp\")"
   ]
  },
  {
   "cell_type": "code",
   "execution_count": 17,
   "id": "physical-intention",
   "metadata": {},
   "outputs": [
    {
     "data": {
      "text/plain": [
       "array([[2.3034570e+28, 1.4012985e-45, 1.7217433e+36, ..., 1.4012985e-45,\n",
       "        4.3508343e+25, 1.4012985e-45],\n",
       "       [1.7312456e+36, 1.4012985e-45, 1.7311239e+36, ..., 1.4012985e-45,\n",
       "        1.7254246e+36, 1.4012985e-45],\n",
       "       [6.7962232e+25, 1.4012985e-45, 1.8014431e+36, ..., 1.4012985e-45,\n",
       "        1.7986035e+36, 1.4012985e-45],\n",
       "       ...,\n",
       "       [0.0000000e+00, 0.0000000e+00, 0.0000000e+00, ..., 0.0000000e+00,\n",
       "        0.0000000e+00, 0.0000000e+00],\n",
       "       [0.0000000e+00, 0.0000000e+00, 0.0000000e+00, ..., 0.0000000e+00,\n",
       "        0.0000000e+00, 0.0000000e+00],\n",
       "       [0.0000000e+00, 0.0000000e+00, 0.0000000e+00, ..., 0.0000000e+00,\n",
       "        0.0000000e+00, 0.0000000e+00]], dtype=float32)"
      ]
     },
     "execution_count": 17,
     "metadata": {},
     "output_type": "execute_result"
    }
   ],
   "source": [
    "model2.predict(testing_data)"
   ]
  },
  {
   "cell_type": "code",
   "execution_count": null,
   "id": "substantial-custody",
   "metadata": {},
   "outputs": [],
   "source": []
  }
 ],
 "metadata": {
  "kernelspec": {
   "display_name": "Python 3",
   "language": "python",
   "name": "python3"
  },
  "language_info": {
   "codemirror_mode": {
    "name": "ipython",
    "version": 3
   },
   "file_extension": ".py",
   "mimetype": "text/x-python",
   "name": "python",
   "nbconvert_exporter": "python",
   "pygments_lexer": "ipython3",
   "version": "3.8.6"
  }
 },
 "nbformat": 4,
 "nbformat_minor": 5
}
