{
 "cells": [
  {
   "cell_type": "code",
   "execution_count": 2,
   "id": "consolidated-alfred",
   "metadata": {},
   "outputs": [],
   "source": [
    "import numpy as np\n",
    "import pandas as pd\n",
    "import tensorflow as tf\n",
    "import matplotlib.pyplot as plt\n",
    "from sklearn.model_selection import train_test_split\n",
    "from sklearn.metrics import precision_recall_fscore_support"
   ]
  },
  {
   "cell_type": "code",
   "execution_count": 3,
   "id": "common-cabinet",
   "metadata": {},
   "outputs": [],
   "source": [
    "training_data = pd.read_csv(\"dataset/train.csv\")"
   ]
  },
  {
   "cell_type": "code",
   "execution_count": 5,
   "id": "general-police",
   "metadata": {},
   "outputs": [],
   "source": [
    "Y = training_data['label']\n",
    "X = training_data.drop('label', axis=1)\n",
    "X_train, X_test, Y_train, Y_test = train_test_split(X, Y)"
   ]
  },
  {
   "cell_type": "code",
   "execution_count": 15,
   "id": "wrapped-masters",
   "metadata": {},
   "outputs": [],
   "source": [
    "#Normalize data\n",
    "X_train = tf.keras.utils.normalize(X_train)\n",
    "X_test = tf.keras.utils.normalize(X_test)"
   ]
  },
  {
   "cell_type": "code",
   "execution_count": 27,
   "id": "ongoing-livestock",
   "metadata": {},
   "outputs": [
    {
     "data": {
      "text/plain": [
       "<matplotlib.image.AxesImage at 0x16824b490>"
      ]
     },
     "execution_count": 27,
     "metadata": {},
     "output_type": "execute_result"
    },
    {
     "data": {
      "image/png": "[encoded data removed]",
      "text/plain": [
       "<Figure size 432x288 with 1 Axes>"
      ]
     },
     "metadata": {
      "needs_background": "light"
     },
     "output_type": "display_data"
    }
   ],
   "source": [
    "plt.imshow(X_test.iloc[4, :].values.reshape(28,28), cmap=plt.cm.binary)"
   ]
  },
  {
   "cell_type": "code",
   "execution_count": 29,
   "id": "complicated-ultimate",
   "metadata": {},
   "outputs": [],
   "source": [
    "model = tf.keras.models.Sequential()"
   ]
  },
  {
   "cell_type": "code",
   "execution_count": 30,
   "id": "involved-gardening",
   "metadata": {},
   "outputs": [],
   "source": [
    "model.add(tf.keras.layers.Dense(128, activation=tf.nn.relu))\n",
    "model.add(tf.keras.layers.Dense(128, activation=tf.nn.relu))\n",
    "model.add(tf.keras.layers.Dense(10, activation=tf.nn.softmax))"
   ]
  },
  {
   "cell_type": "code",
   "execution_count": 38,
   "id": "exotic-customer",
   "metadata": {},
   "outputs": [],
   "source": [
    "model.compile(optimizer='adam', loss='sparse_categorical_crossentropy',metrics=['accuracy'] )"
   ]
  },
  {
   "cell_type": "code",
   "execution_count": 39,
   "id": "valid-istanbul",
   "metadata": {},
   "outputs": [
    {
     "name": "stdout",
     "output_type": "stream",
     "text": [
      "Epoch 1/10\n",
      "985/985 [==============================] - 1s 373us/step - loss: 0.0127 - accuracy: 0.99610s - loss: 0.0127 - accuracy: 0.99\n",
      "Epoch 2/10\n",
      "985/985 [==============================] - 0s 372us/step - loss: 0.0129 - accuracy: 0.9958\n",
      "Epoch 3/10\n",
      "985/985 [==============================] - 0s 372us/step - loss: 0.0122 - accuracy: 0.9962\n",
      "Epoch 4/10\n",
      "985/985 [==============================] - 0s 423us/step - loss: 0.0123 - accuracy: 0.9961\n",
      "Epoch 5/10\n",
      "985/985 [==============================] - 0s 375us/step - loss: 0.0120 - accuracy: 0.9962\n",
      "Epoch 6/10\n",
      "985/985 [==============================] - 0s 391us/step - loss: 0.0124 - accuracy: 0.9963\n",
      "Epoch 7/10\n",
      "985/985 [==============================] - 0s 407us/step - loss: 0.0126 - accuracy: 0.9961\n",
      "Epoch 8/10\n",
      "985/985 [==============================] - 0s 373us/step - loss: 0.0121 - accuracy: 0.9964\n",
      "Epoch 9/10\n",
      "985/985 [==============================] - 0s 439us/step - loss: 0.0131 - accuracy: 0.9958\n",
      "Epoch 10/10\n",
      "985/985 [==============================] - 0s 378us/step - loss: 0.0132 - accuracy: 0.9959\n"
     ]
    },
    {
     "data": {
      "text/plain": [
       "<tensorflow.python.keras.callbacks.History at 0x16c4a53a0>"
      ]
     },
     "execution_count": 39,
     "metadata": {},
     "output_type": "execute_result"
    }
   ],
   "source": [
    "model.fit(X_train, Y_train, epochs=10)"
   ]
  },
  {
   "cell_type": "code",
   "execution_count": 40,
   "id": "handmade-illness",
   "metadata": {},
   "outputs": [
    {
     "name": "stdout",
     "output_type": "stream",
     "text": [
      "329/329 [==============================] - 0s 289us/step - loss: 0.1193 - accuracy: 0.9696\n"
     ]
    }
   ],
   "source": [
    "loss, accuracy = model.evaluate(X_test, Y_test)"
   ]
  },
  {
   "cell_type": "code",
   "execution_count": 41,
   "id": "ordinary-stewart",
   "metadata": {},
   "outputs": [
    {
     "name": "stdout",
     "output_type": "stream",
     "text": [
      "0.11930347979068756 0.9696190357208252\n"
     ]
    }
   ],
   "source": [
    "print(loss, accuracy)"
   ]
  },
  {
   "cell_type": "code",
   "execution_count": null,
   "id": "sharing-swaziland",
   "metadata": {},
   "outputs": [],
   "source": []
  }
 ],
 "metadata": {
  "kernelspec": {
   "display_name": "Python 3",
   "language": "python",
   "name": "python3"
  },
  "language_info": {
   "codemirror_mode": {
    "name": "ipython",
    "version": 3
   },
   "file_extension": ".py",
   "mimetype": "text/x-python",
   "name": "python",
   "nbconvert_exporter": "python",
   "pygments_lexer": "ipython3",
   "version": "3.8.6"
  }
 },
 "nbformat": 4,
 "nbformat_minor": 5
}
