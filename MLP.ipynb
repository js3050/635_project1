{
  "nbformat": 4,
  "nbformat_minor": 0,
  "metadata": {
    "colab": {
      "name": "MLP.ipynb",
      "provenance": [],
      "toc_visible": true
    },
    "kernelspec": {
      "name": "python3",
      "display_name": "Python 3"
    },
    "language_info": {
      "name": "python"
    }
  },
  "cells": [
    {
      "cell_type": "markdown",
      "metadata": {
        "id": "BAJyfW_tGzN9"
      },
      "source": [
        "# File Name : MLP.ipynb\n",
        "# Version : 1.0\n",
        "# Revision : `$Log$`\n",
        "\n",
        "# Author 1 : Jagwant Sehgal (js3050@rit.edu)\n",
        "# Author 2 : Kundan Patil (kp4677@rit.edu)\n",
        "# Author 3 : Abhilekh Chaudhari (ac4241@rit.edu)\n",
        "\n",
        "# Date : 03/28/2021"
      ]
    },
    {
      "cell_type": "markdown",
      "metadata": {
        "id": "FgWwn6YRskeL"
      },
      "source": [
        "## Import necessary library\n"
      ]
    },
    {
      "cell_type": "code",
      "metadata": {
        "id": "yB-exfwksk-D"
      },
      "source": [
        "import pandas as pd\n",
        "import numpy as np\n",
        "import tensorflow as tf\n",
        "import matplotlib.pyplot as plt\n",
        "from sklearn.model_selection import train_test_split\n",
        "from sklearn.metrics import confusion_matrix, ConfusionMatrixDisplay, plot_confusion_matrix\n",
        "from keras.utils import to_categorical\n",
        "import seaborn as sns; sns.set()"
      ],
      "execution_count": 1,
      "outputs": []
    },
    {
      "cell_type": "markdown",
      "metadata": {
        "id": "8Z3VYQM9HZOd"
      },
      "source": [
        "## Read the MNIST data"
      ]
    },
    {
      "cell_type": "code",
      "metadata": {
        "id": "IJvXlQEDt30e"
      },
      "source": [
        "training_data = pd.read_csv(\"train.csv\") "
      ],
      "execution_count": 2,
      "outputs": []
    },
    {
      "cell_type": "markdown",
      "metadata": {
        "id": "C6e0oCUmHeIg"
      },
      "source": [
        "## Split data into Training and Testing\n"
      ]
    },
    {
      "cell_type": "code",
      "metadata": {
        "id": "XNr6D4YDu3v0"
      },
      "source": [
        "Y = training_data[\"label\"]\n",
        "X = training_data.drop('label', axis=1)\n",
        "X_train, X_test, Y_train, Y_test = train_test_split(X, Y)\n",
        "\n",
        "Y_test_temp = Y_test\n",
        "\n",
        "num_classes = len(list(np.unique(Y_train)))\n",
        "Y_train = to_categorical(Y_train, num_classes)\n",
        "Y_test = to_categorical(Y_test, num_classes)"
      ],
      "execution_count": 3,
      "outputs": []
    },
    {
      "cell_type": "markdown",
      "metadata": {
        "id": "PvNtY3j8HwTZ"
      },
      "source": [
        "## Normalize the training data\n"
      ]
    },
    {
      "cell_type": "code",
      "metadata": {
        "id": "Aut9Jez3vd5L"
      },
      "source": [
        "X_train = tf.keras.utils.normalize(X_train)\n",
        "X_test = tf.keras.utils.normalize(X_test)"
      ],
      "execution_count": 4,
      "outputs": []
    },
    {
      "cell_type": "markdown",
      "metadata": {
        "id": "HRFZKONgH5n5"
      },
      "source": [
        "## Design Model Architecture"
      ]
    },
    {
      "cell_type": "code",
      "metadata": {
        "id": "km52GqPsvpBS"
      },
      "source": [
        "model = tf.keras.models.Sequential()\n",
        "\n",
        "model.add(tf.keras.layers.Dense(128, activation=tf.nn.relu))\n",
        "model.add(tf.keras.layers.Dense(64, activation=tf.nn.relu))\n",
        "model.add(tf.keras.layers.Dense(num_classes, activation=tf.nn.softmax))\n",
        "\n",
        "model.compile(optimizer='adam', loss='categorical_crossentropy', metrics=['accuracy'] )"
      ],
      "execution_count": 5,
      "outputs": []
    },
    {
      "cell_type": "markdown",
      "metadata": {
        "id": "9taKW9M3IGcK"
      },
      "source": [
        "## Train the designed model"
      ]
    },
    {
      "cell_type": "code",
      "metadata": {
        "colab": {
          "base_uri": "https://localhost:8080/"
        },
        "id": "6zNcXgLOvz_-",
        "outputId": "1eefb759-0e1c-47c1-bf59-b4bf86e76e42"
      },
      "source": [
        "history = model.fit(X_train, Y_train, epochs=10, validation_data=(X_test,Y_test))"
      ],
      "execution_count": 6,
      "outputs": [
        {
          "output_type": "stream",
          "text": [
            "Epoch 1/10\n",
            "985/985 [==============================] - 5s 4ms/step - loss: 0.8221 - accuracy: 0.7862 - val_loss: 0.2653 - val_accuracy: 0.9210\n",
            "Epoch 2/10\n",
            "985/985 [==============================] - 4s 4ms/step - loss: 0.2081 - accuracy: 0.9372 - val_loss: 0.1863 - val_accuracy: 0.9443\n",
            "Epoch 3/10\n",
            "985/985 [==============================] - 3s 3ms/step - loss: 0.1461 - accuracy: 0.9561 - val_loss: 0.1522 - val_accuracy: 0.9552\n",
            "Epoch 4/10\n",
            "985/985 [==============================] - 3s 3ms/step - loss: 0.1138 - accuracy: 0.9658 - val_loss: 0.1309 - val_accuracy: 0.9595\n",
            "Epoch 5/10\n",
            "985/985 [==============================] - 3s 3ms/step - loss: 0.0913 - accuracy: 0.9722 - val_loss: 0.1276 - val_accuracy: 0.9602\n",
            "Epoch 6/10\n",
            "985/985 [==============================] - 3s 3ms/step - loss: 0.0784 - accuracy: 0.9758 - val_loss: 0.1082 - val_accuracy: 0.9664\n",
            "Epoch 7/10\n",
            "985/985 [==============================] - 3s 3ms/step - loss: 0.0557 - accuracy: 0.9829 - val_loss: 0.1125 - val_accuracy: 0.9666\n",
            "Epoch 8/10\n",
            "985/985 [==============================] - 3s 3ms/step - loss: 0.0490 - accuracy: 0.9854 - val_loss: 0.1090 - val_accuracy: 0.9670\n",
            "Epoch 9/10\n",
            "985/985 [==============================] - 3s 3ms/step - loss: 0.0377 - accuracy: 0.9891 - val_loss: 0.1070 - val_accuracy: 0.9686\n",
            "Epoch 10/10\n",
            "985/985 [==============================] - 3s 3ms/step - loss: 0.0332 - accuracy: 0.9907 - val_loss: 0.1003 - val_accuracy: 0.9699\n"
          ],
          "name": "stdout"
        }
      ]
    },
    {
      "cell_type": "markdown",
      "metadata": {
        "id": "qkvcrIpgIULF"
      },
      "source": [
        "## Evaluate the designed model"
      ]
    },
    {
      "cell_type": "code",
      "metadata": {
        "colab": {
          "base_uri": "https://localhost:8080/"
        },
        "id": "lGHwLvwYxfGC",
        "outputId": "f8a1b2ac-a4f3-4b01-ea91-0bd074934436"
      },
      "source": [
        "test_loss, test_accuracy = model.evaluate(X_test, Y_test)\n",
        "print(test_loss)"
      ],
      "execution_count": 7,
      "outputs": [
        {
          "output_type": "stream",
          "text": [
            "329/329 [==============================] - 1s 2ms/step - loss: 0.1003 - accuracy: 0.9699\n",
            "0.10031851381063461\n"
          ],
          "name": "stdout"
        }
      ]
    },
    {
      "cell_type": "markdown",
      "metadata": {
        "id": "BDLghK9eIYTy"
      },
      "source": [
        "## Plot learning curves for the designed model"
      ]
    },
    {
      "cell_type": "code",
      "metadata": {
        "id": "sV1SiZWmySPL"
      },
      "source": [
        "plt.plot(history.history['loss'], label=\"Training Data\")\n",
        "plt.plot(history.history[\"val_loss\"], label=\"Testing Data\")\n",
        "plt.title(\"Learning Curve denoting Model Loss\")\n",
        "plt.ylabel(\"Loss\")\n",
        "plt.xlabel('Number of epochs')\n",
        "plt.legend(loc=\"upper right\")\n",
        "plt.show()\n",
        "\n",
        "plt.plot(history.history['accuracy'], label=\"Training Data\")\n",
        "plt.plot(history.history[\"val_accuracy\"], label=\"Testing Data\")\n",
        "plt.title(\"Learning Curve denoting Model Accuracy\")\n",
        "plt.ylabel(\"Accuracy\")\n",
        "plt.xlabel('Number of epochs')\n",
        "plt.legend(loc=\"upper left\")\n",
        "plt.show()"
      ],
      "execution_count": null,
      "outputs": []
    },
    {
      "cell_type": "markdown",
      "metadata": {
        "id": "reazjeqpZer_"
      },
      "source": [
        "## Images where correct class probability is very high or very low"
      ]
    },
    {
      "cell_type": "code",
      "metadata": {
        "id": "eGJhhvmyPuwg"
      },
      "source": [
        "probability_estimate = model.predict_proba(X_test)\n",
        "class_names = [\"0\",\"1\",\"2\",\"3\",\"4\",\"5\",\"6\",\"7\",\"8\",\"9\"]\n",
        "probability_estimate_dataframe = pd.DataFrame(probability_estimate, columns=class_names)\n",
        "for column in df.columns:\n",
        "  column_data = df[column]\n",
        "  column_data = np.array(column_data)\n",
        "  "
      ],
      "execution_count": null,
      "outputs": []
    },
    {
      "cell_type": "markdown",
      "metadata": {
        "id": "_AKbeh7QIf2R"
      },
      "source": [
        "## Plot confusion matrix"
      ]
    },
    {
      "cell_type": "code",
      "metadata": {
        "id": "zYVb26Cr3AEC"
      },
      "source": [
        "y_pred = model.predict(X_test)\n",
        "y_pred_temp = np.argmax(y_pred, axis=1)\n",
        "\n",
        "class_names = [\"0\",\"1\",\"2\",\"3\",\"4\",\"5\",\"6\",\"7\",\"8\",\"9\"]\n",
        "confusion_matrix_data = confusion_matrix(Y_test_temp, y_pred_temp)\n",
        "\n",
        "sns.heatmap(confusion_matrix_data, square=True,annot=True,fmt=\"d\",linewidths=.5, cbar=True,cmap=\"coolwarm\")"
      ],
      "execution_count": null,
      "outputs": []
    }
  ]
}